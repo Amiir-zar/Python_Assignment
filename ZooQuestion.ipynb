{
 "cells": [
  {
   "cell_type": "code",
   "execution_count": 29,
   "metadata": {},
   "outputs": [],
   "source": [
    "def zoo_admission_calc():\n",
    "    child,senionrs,others = 0,0,0 \n",
    "    \n",
    "    while True:\n",
    "        guest_age = input(\"Please enter the age of the all the guest (enter blank if you finished) :  \")\n",
    "        if guest_age == '': break\n",
    "        try :\n",
    "            guest_age = int(guest_age)\n",
    "            if guest_age < 0:\n",
    "                print(f\"Age cannot be negative! \\\"{guest_age}\\\" is not acceptable!\")\n",
    "            elif (3 <= guest_age <= 12) : child += 1 \n",
    "            elif (12 < guest_age < 65): others += 1\n",
    "            elif (65 <= guest_age ) :  senionrs += 1\n",
    "        except ValueError as ex:\n",
    "            print(f\"Please enter a valid number for the age! \\\"{guest_age}\\\" is not acceptable!\")\n",
    "\n",
    "    child_price = child * 14 \n",
    "    senionrs_price =senionrs * 18\n",
    "    Adult_price = others * 23\n",
    "    total_price = child_price + senionrs_price + Adult_price\n",
    "\n",
    "    d = {\"3-12\":  [f\"{child}\", \"14$\", f\"{child_price}.00$\"],\n",
    "         \"12-65\":  [f\"{others}\", \"23$\", f\"{Adult_price}.00$\"],\n",
    "         \"above 65\":    [f\"{senionrs}\", \"18$\", f\"{senionrs_price}.00$\"]}\n",
    "\n",
    "    print(\"{:<14} {:<8} {:<10} {:<12} \\n\".format('Ages', 'qty', 'Cost_PU', 'SUBTOTAL'))\n",
    "    for age, price in d.items():\n",
    "        qty, Cost_PU, subtotal = price\n",
    "        print(\"{:<14} {:<8} {:<10} {:<12}\\n\".format(age, qty, Cost_PU, subtotal))\n",
    "        \n",
    "    print(f\"\\nTotal: --------------------------  {total_price}.00$\")\n"
   ]
  },
  {
   "cell_type": "code",
   "execution_count": 33,
   "metadata": {},
   "outputs": [
    {
     "name": "stdout",
     "output_type": "stream",
     "text": [
      "Ages           qty      Cost_PU    SUBTOTAL     \n",
      "\n",
      "3-12           5        14$        70.00$      \n",
      "\n",
      "12-65          5        23$        115.00$     \n",
      "\n",
      "above 65       5        18$        90.00$      \n",
      "\n",
      "\n",
      "Total: --------------------------  275.00$\n"
     ]
    }
   ],
   "source": [
    "\n",
    "zoo_admission_calc()\n"
   ]
  },
  {
   "cell_type": "code",
   "execution_count": null,
   "metadata": {},
   "outputs": [],
   "source": []
  }
 ],
 "metadata": {
  "kernelspec": {
   "display_name": "Python 3.9.7 ('base')",
   "language": "python",
   "name": "python3"
  },
  "language_info": {
   "codemirror_mode": {
    "name": "ipython",
    "version": 3
   },
   "file_extension": ".py",
   "mimetype": "text/x-python",
   "name": "python",
   "nbconvert_exporter": "python",
   "pygments_lexer": "ipython3",
   "version": "3.9.7 (default, Sep 16 2021, 08:50:36) \n[Clang 10.0.0 ]"
  },
  "orig_nbformat": 4,
  "vscode": {
   "interpreter": {
    "hash": "ea3be26687efb83986522bbd2cd966148727cb8caef521a6884d7bd6d6fe96b8"
   }
  }
 },
 "nbformat": 4,
 "nbformat_minor": 2
}
