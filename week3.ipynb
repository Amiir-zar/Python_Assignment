{
 "cells": [
  {
   "cell_type": "markdown",
   "metadata": {},
   "source": [
    "**Qeustion1**"
   ]
  },
  {
   "cell_type": "markdown",
   "metadata": {},
   "source": [
    "Write a program that reads an integer from the user. Then your program should\n",
    "display a message indicating whether the integer is even or odd and if the number is a prime or a non-prime."
   ]
  },
  {
   "cell_type": "code",
   "execution_count": 17,
   "metadata": {},
   "outputs": [
    {
     "name": "stdout",
     "output_type": "stream",
     "text": [
      "the number 26 is an EVEN number \n",
      "\n",
      "the number 26 is prime\n"
     ]
    }
   ],
   "source": [
    "def int_type_reader():\n",
    "    num = int(input(\"please enter a number : \\n\"))\n",
    "\n",
    "    ## Check whether the number is odd or even \n",
    "    if (num % 2) == 0 : print(f\"the number {num} is an EVEN number \\n\")\n",
    "    else : print(f\"the number {num} is an ODD number\")\n",
    "\n",
    "    ## Check if the number is prime or not \n",
    "    for i in range(2,num):\n",
    "        count = 0 \n",
    "        if (num%i) == 0  : \n",
    "            count +=1\n",
    "    if (count == 0) : \n",
    "        print(f\"the number {num} is prime\")\n",
    "    else : \n",
    "        print(f\"the number {num} is NOT prime\")\n",
    "\n",
    "## Lets check it :\n",
    "int_type_reader()"
   ]
  },
  {
   "cell_type": "markdown",
   "metadata": {},
   "source": [
    "**Qeustion1**"
   ]
  },
  {
   "cell_type": "markdown",
   "metadata": {},
   "source": [
    "2. A univariate quadratic function has the form $f(x)=ax^2+bx+c$, where a, b and\n",
    "c are constants, and a is non-zero. The roots of a quadratic function can be found\n",
    "by finding the values of x that satisfy the quadratic equation $ax^2 +bx+c=0$. A\n",
    "quadratic function may have 0, 1, or 2 real roots. These roots can be computed using\n",
    "the quadratic formula, shown below:\n",
    "    \n",
    "    $\\boxed{root = \\frac {-b \\pm \\sqrt {b^2 - 4ac}} {2a} }$\n",
    "    \n",
    "    The portion of the expression under the square root sign is called the discriminant.\n",
    "    If the discriminant is negative then the quadratic equation does not have any real roots.\n",
    "    If the discriminant is 0, then the equation has one real root. Otherwise, the equation\n",
    "    has two real roots, and the expression must be evaluated twice, once using a plus\n",
    "    sign, and once using a minus sign, when computing the numerator.\n",
    "    Write a program that computes the real roots of a quadratic function. Your program\n",
    "    should begin by prompting the user for the values of a, b and c. Then it should display\n",
    "    a message indicating the number of real roots, along with the values of the real roots\n",
    "    (if any)."
   ]
  },
  {
   "cell_type": "code",
   "execution_count": 30,
   "metadata": {},
   "outputs": [
    {
     "name": "stdout",
     "output_type": "stream",
     "text": [
      "There is no REAL root for the equation 1x^2+ 2x+ 3 = 0\n",
      "\n",
      "\n",
      "There is only one REAL root for the equation 1x^2+ 4x+ 4 = 0 \n",
      "\n",
      "Root = -2.0\n",
      "\n",
      "\n",
      "There are Two REAL root for the equation 1x^2+ 4x+ 3 = 0\n",
      "\n",
      "Root 1 : -1.0\n",
      "\n",
      "Root 2 : -3.0\n",
      "\n",
      "\n"
     ]
    }
   ],
   "source": [
    "import math\n",
    "\n",
    "def real_root_calc(a,b,c):\n",
    "    \"\"\"\n",
    "    This function calculates the root for univariate quadratic equation\n",
    "    ax^2 + b*x + c = 0 \n",
    "    The user shoul provide the a, b and c arguments\n",
    "    \"\"\"\n",
    "\n",
    "    ## First Define the Delta \n",
    "    delta = pow(b,2)-(4*a*c)\n",
    "\n",
    "    ## As mentioned in the question \n",
    "    ## based on the value of the delta we have three possibilities\n",
    "    if delta < 0 :\n",
    "        print(f\"There is no REAL root for the equation {a}x^2+ {b}x+ {c} = 0\\n\\n\")\n",
    "\n",
    "    elif delta == 0 :\n",
    "        root = -b / (2 * a)\n",
    "        print(f\"There is only one REAL root for the equation {a}x^2+ {b}x+ {c} = 0 \\n\")\n",
    "        print(f\"Root = {root}\\n\\n\")\n",
    "\n",
    "    else : \n",
    "        root1 = (-b + math.sqrt(delta)) / (2 * a)\n",
    "        root2 = (-b - math.sqrt(delta)) / (2 * a)\n",
    "        print(f\"There are Two REAL root for the equation {a}x^2+ {b}x+ {c} = 0\\n\")\n",
    "        print(f\"Root 1 : {root1}\\n\")\n",
    "        print(f\"Root 2 : {root2}\\n\\n\")\n",
    "\n",
    "\n",
    "real_root_calc(1,2,3)\n",
    "real_root_calc(1,4,4)\n",
    "real_root_calc(1,4,3)"
   ]
  },
  {
   "cell_type": "markdown",
   "metadata": {},
   "source": [
    "**Qeustion3**"
   ]
  },
  {
   "cell_type": "markdown",
   "metadata": {},
   "source": [
    "In this exercise, you will create a program that computes the average of a collection\n",
    "of values entered by the user. The user will enter 0 as a sentinel value to indicate\n",
    "that no further values will be provided. Your program should display an appropriate\n",
    "error message if the first value entered by the user is 0."
   ]
  },
  {
   "cell_type": "code",
   "execution_count": 46,
   "metadata": {},
   "outputs": [
    {
     "name": "stdout",
     "output_type": "stream",
     "text": [
      "The mean of [1.0, 2.0, 3.0, 4.0, 5.0, 6.0, 7.0, 8.0] is 4.5\n"
     ]
    }
   ],
   "source": [
    "sum = 0\n",
    "count = 0\n",
    "list_of_numbers = []\n",
    "\n",
    "try : \n",
    "    while True :\n",
    "        num = float(input(\"Please enter the number (enter 0 for calculation\"))\n",
    "        if (num == 0):\n",
    "            break \n",
    "        list_of_numbers.append(num)\n",
    "        sum += num\n",
    "        count += 1 \n",
    "    print(f\"The mean of {list_of_numbers} is {sum/count}\")\n",
    "\n",
    "except (ValueError, ZeroDivisionError) as ex:\n",
    "    print(\"You should enter a number!\")\n",
    "    print(ex)\n",
    "    print(type(ex))\n"
   ]
  },
  {
   "cell_type": "markdown",
   "metadata": {},
   "source": [
    "**Qeustion4**"
   ]
  },
  {
   "cell_type": "markdown",
   "metadata": {},
   "source": [
    "Write a program that displays a temperature conversion table for degrees Celsius and\n",
    "degrees Fahrenheit. The table should include rows for all temperatures between 0\n",
    "and 100 degrees Celsius which are multiples of 10 degrees Celsius. Include appropriate\n",
    "headings on your columns. The formula for converting between degrees Celsius and\n",
    "degrees Fahrenheit can be found on the internet."
   ]
  },
  {
   "cell_type": "code",
   "execution_count": 59,
   "metadata": {},
   "outputs": [
    {
     "data": {
      "text/html": [
       "<div>\n",
       "<style scoped>\n",
       "    .dataframe tbody tr th:only-of-type {\n",
       "        vertical-align: middle;\n",
       "    }\n",
       "\n",
       "    .dataframe tbody tr th {\n",
       "        vertical-align: top;\n",
       "    }\n",
       "\n",
       "    .dataframe thead th {\n",
       "        text-align: right;\n",
       "    }\n",
       "</style>\n",
       "<table border=\"1\" class=\"dataframe\">\n",
       "  <thead>\n",
       "    <tr style=\"text-align: right;\">\n",
       "      <th></th>\n",
       "      <th>Celsius</th>\n",
       "      <th>Fahrenheit</th>\n",
       "    </tr>\n",
       "  </thead>\n",
       "  <tbody>\n",
       "    <tr>\n",
       "      <th>0</th>\n",
       "      <td>10</td>\n",
       "      <td>50.0</td>\n",
       "    </tr>\n",
       "    <tr>\n",
       "      <th>1</th>\n",
       "      <td>20</td>\n",
       "      <td>68.0</td>\n",
       "    </tr>\n",
       "    <tr>\n",
       "      <th>2</th>\n",
       "      <td>30</td>\n",
       "      <td>86.0</td>\n",
       "    </tr>\n",
       "    <tr>\n",
       "      <th>3</th>\n",
       "      <td>40</td>\n",
       "      <td>104.0</td>\n",
       "    </tr>\n",
       "    <tr>\n",
       "      <th>4</th>\n",
       "      <td>50</td>\n",
       "      <td>122.0</td>\n",
       "    </tr>\n",
       "    <tr>\n",
       "      <th>5</th>\n",
       "      <td>60</td>\n",
       "      <td>140.0</td>\n",
       "    </tr>\n",
       "    <tr>\n",
       "      <th>6</th>\n",
       "      <td>70</td>\n",
       "      <td>158.0</td>\n",
       "    </tr>\n",
       "    <tr>\n",
       "      <th>7</th>\n",
       "      <td>80</td>\n",
       "      <td>176.0</td>\n",
       "    </tr>\n",
       "    <tr>\n",
       "      <th>8</th>\n",
       "      <td>90</td>\n",
       "      <td>194.0</td>\n",
       "    </tr>\n",
       "    <tr>\n",
       "      <th>9</th>\n",
       "      <td>100</td>\n",
       "      <td>212.0</td>\n",
       "    </tr>\n",
       "  </tbody>\n",
       "</table>\n",
       "</div>"
      ],
      "text/plain": [
       "   Celsius  Fahrenheit\n",
       "0       10        50.0\n",
       "1       20        68.0\n",
       "2       30        86.0\n",
       "3       40       104.0\n",
       "4       50       122.0\n",
       "5       60       140.0\n",
       "6       70       158.0\n",
       "7       80       176.0\n",
       "8       90       194.0\n",
       "9      100       212.0"
      ]
     },
     "execution_count": 59,
     "metadata": {},
     "output_type": "execute_result"
    }
   ],
   "source": [
    "# Formula for converting temperatures in degrees Celsius to Fahrenheit, \n",
    "# °F = °C × (9/5) + 32\n",
    "import pandas as pd \n",
    "\n",
    "celsius = [(i*10) for i in range(1,11)]\n",
    "fahrenheit = [(i * 9/5) + 32 for i in celsius]\n",
    "\n",
    "columns = {'Celsius': celsius, 'Fahrenheit': fahrenheit}\n",
    "data = pd.DataFrame.from_dict(columns)\n",
    "data\n"
   ]
  },
  {
   "cell_type": "markdown",
   "metadata": {},
   "source": [
    "**Qeustion5**"
   ]
  },
  {
   "cell_type": "markdown",
   "metadata": {},
   "source": [
    "A particular zoo determines the price of admission based on the age of the guest.\n",
    "Guests 2 years of age and less are admitted without charge. Children between 3 and\n",
    "12 years of age cost $14.00. Seniors aged 65 years and over cost $18.00. Admission\n",
    "for all other guests is $23.00.\n",
    "Create a program that begins by reading the ages of all of the guests in a group\n",
    "from the user, with one age entered on each line. The user will enter a blank line to\n",
    "indicate that there are no more guests in the group. Then your program should display\n",
    "the admission cost for the group with an appropriate message. The cost should be\n",
    "displayed using two decimal places."
   ]
  },
  {
   "cell_type": "code",
   "execution_count": 90,
   "metadata": {},
   "outputs": [],
   "source": [
    "def zoo_admission_calc():\n",
    "    \"\"\" \n",
    "    This function calculates the Addmission a group should pay \n",
    "    for visiting the Zoo \n",
    "    age < 2 : free \n",
    "    3 <= age < 12 : 14$ \n",
    "    65 <= guest_age : 18$\n",
    "    Adult : 23$\n",
    "    \"\"\"\n",
    "    child = 0\n",
    "    senionrs = 0\n",
    "    others = 0\n",
    "    while True:\n",
    "        guest_age = input(\"Please enter the age of the all the guest (enter blank if you finished) :  \")\n",
    "        if guest_age == '': break\n",
    "        else:\n",
    "            guest_age = int(guest_age)\n",
    "        if guest_age < 0: \n",
    "            raise Exception(\"Age cannot be negative\")\n",
    "\n",
    "        if (guest_age <= 2) : continue\n",
    "        elif (3 <= guest_age < 12) : child += 1 \n",
    "        elif (65 <= guest_age ) : senionrs += 1\n",
    "        else : others += 1\n",
    "\n",
    "    total_price = child * 14 + senionrs * 18 + others * 23\n",
    "    verify = input(f\"There are {child} children, {senionrs} seniors and {others} Adult in your crew?(y/n)\")\n",
    "    if verify.lower() in {\"n\", \"no\",\"nope\",\"nah\",\"nein\"} : \n",
    "        zoo_admission_calc()\n",
    "    else :\n",
    "        print(f\"There are {child} children, {senionrs} seniors and {others} Adult in your crew!\")\n",
    "        print(f\"The total price is :{total_price}.00 $ \")\n"
   ]
  },
  {
   "cell_type": "code",
   "execution_count": 89,
   "metadata": {},
   "outputs": [
    {
     "name": "stdout",
     "output_type": "stream",
     "text": [
      "There are 4 children, 3 seniors and 3 Adult in your crew!\n",
      "The total price is :179.00 $ \n"
     ]
    }
   ],
   "source": [
    "zoo_admission_calc()"
   ]
  },
  {
   "cell_type": "markdown",
   "metadata": {},
   "source": [
    "**Qeustion6**"
   ]
  },
  {
   "cell_type": "markdown",
   "metadata": {},
   "source": [
    "Write a function that takes the lengths of the two shorter sides of a right triangle as\n",
    "its parameters. Return the hypotenuse of the triangle, computed using the Pythagorean\n",
    "theorem, as the function’s result. Include inputs that read the lengths of\n",
    "the shorter sides of a right triangle from the user, use your function to compute the\n",
    "length of the hypotenuse, and display the result."
   ]
  },
  {
   "cell_type": "code",
   "execution_count": 101,
   "metadata": {},
   "outputs": [
    {
     "data": {
      "text/plain": [
       "10.0"
      ]
     },
     "execution_count": 101,
     "metadata": {},
     "output_type": "execute_result"
    }
   ],
   "source": [
    "from math import sqrt\n",
    "\n",
    "def hypotenuse_calc(a,b):\n",
    "    hypotenuse = math.sqrt(a**2 + b**2)\n",
    "    return hypotenuse\n",
    "\n",
    "hypotenuse_calc(6,8)"
   ]
  },
  {
   "cell_type": "code",
   "execution_count": 103,
   "metadata": {},
   "outputs": [
    {
     "name": "stdout",
     "output_type": "stream",
     "text": [
      " a = 6.0\n",
      " b = 8.0\n",
      " hypotenuse = 10.0\n"
     ]
    }
   ],
   "source": [
    "def hypotenuse_calc2():\n",
    "    a = float(input(\"enter the first sides: \"))\n",
    "    b = float(input(\"enter the second sides: \"))\n",
    "    hypotenuse = math.sqrt(a**2 + b**2)\n",
    "    print(f\" a = {a}\\n b = {b}\\n hypotenuse = {hypotenuse}\")\n",
    "hypotenuse_calc2()\n"
   ]
  },
  {
   "cell_type": "markdown",
   "metadata": {},
   "source": [
    "**Qeustion7**"
   ]
  },
  {
   "cell_type": "markdown",
   "metadata": {},
   "source": [
    "An online retailer provides express shipping for many of its items at a rate of $10.95\n",
    "for the first item, and $2.95 for each subsequent item. Write a function that takes the\n",
    "number of items in the order as its only parameter. Return the shipping charge for\n",
    "the order as the function’s result. Include user inputs that read the number of\n",
    "items purchased from the user and display the shipping charge."
   ]
  },
  {
   "cell_type": "code",
   "execution_count": 118,
   "metadata": {},
   "outputs": [
    {
     "name": "stdout",
     "output_type": "stream",
     "text": [
      "Total shipping charge equals to : 25.7\n"
     ]
    }
   ],
   "source": [
    "def ship_charge(count):\n",
    "    if count < 1 :\n",
    "        raise ValueError(\" count must be a positive integer\")\n",
    "    if count == 1 : \n",
    "        Total_charge = 10.95 \n",
    "    elif count > 1 :\n",
    "        Total_charge = round(10.95 + (count-1) * 2.95,3)\n",
    "    print(f\"Total shipping charge equals to : {Total_charge}\")\n",
    "\n",
    "ship_charge(6)"
   ]
  },
  {
   "cell_type": "code",
   "execution_count": 122,
   "metadata": {},
   "outputs": [
    {
     "name": "stdout",
     "output_type": "stream",
     "text": [
      "Total shipping charge equals to : 25.7\n"
     ]
    }
   ],
   "source": [
    "def ship_charge2():\n",
    "   count = int(input(\"How many do you want? \")) \n",
    "\n",
    "   if count < 1 :\n",
    "        raise ValueError(\" count must be a positive integer\")\n",
    "   if count == 1 : \n",
    "        Total_charge = 10.95 \n",
    "   elif count > 1 :\n",
    "    Total_charge = round(10.95 + (count-1) * 2.95,3)\n",
    "    print(f\"Total shipping charge equals to : {Total_charge}\") \n",
    "\n",
    "\n",
    "ship_charge2()\n"
   ]
  },
  {
   "cell_type": "markdown",
   "metadata": {},
   "source": [
    "**Qeustion8**"
   ]
  },
  {
   "cell_type": "markdown",
   "metadata": {},
   "source": [
    "In this exercise, you will write a function that determines whether or not a password\n",
    "is good. We will define a good password to be one that is at least 8 characters\n",
    "long and contains at least one uppercase letter, at least one lowercase letter, and at\n",
    "least one number. Your function should return true if the password passed to it as\n",
    "its only parameter is good. Otherwise, it should return false. "
   ]
  },
  {
   "cell_type": "code",
   "execution_count": 165,
   "metadata": {},
   "outputs": [],
   "source": [
    "def pass_checker(password):\n",
    "\n",
    "    lower, upper, number = 0, 0, 0\n",
    "    if (len(password) >= 8):\n",
    "        for i in password:\n",
    "            # counting lowercase alphabets\n",
    "            if (i.islower()):\n",
    "                lower+=1           \n",
    "            # counting uppercase alphabets\n",
    "            if (i.isupper()):\n",
    "                upper+=1           \n",
    "            # counting digits\n",
    "            if (i.isdigit()):\n",
    "                number+=1           \n",
    "            \n",
    "    if (lower>=1 and upper>=1 and number>=1 ):\n",
    "        print(\"Valid Password\")\n",
    "    else:\n",
    "        print(\"Invalid Password\")"
   ]
  },
  {
   "cell_type": "code",
   "execution_count": 166,
   "metadata": {},
   "outputs": [
    {
     "name": "stdout",
     "output_type": "stream",
     "text": [
      "Valid Password\n",
      "Valid Password\n",
      "Invalid Password\n",
      "Invalid Password\n",
      "Invalid Password\n"
     ]
    }
   ],
   "source": [
    "## Test Cases for our function : \n",
    "\n",
    "pass_checker('fedD1234') \n",
    "pass_checker('fedD1234@3%') \n",
    "pass_checker('fe')  \n",
    "pass_checker('1234')\n",
    "pass_checker('fed91234')"
   ]
  }
 ],
 "metadata": {
  "kernelspec": {
   "display_name": "Python 3.9.7 ('base')",
   "language": "python",
   "name": "python3"
  },
  "language_info": {
   "codemirror_mode": {
    "name": "ipython",
    "version": 3
   },
   "file_extension": ".py",
   "mimetype": "text/x-python",
   "name": "python",
   "nbconvert_exporter": "python",
   "pygments_lexer": "ipython3",
   "version": "3.9.7"
  },
  "orig_nbformat": 4,
  "vscode": {
   "interpreter": {
    "hash": "ea3be26687efb83986522bbd2cd966148727cb8caef521a6884d7bd6d6fe96b8"
   }
  }
 },
 "nbformat": 4,
 "nbformat_minor": 2
}
